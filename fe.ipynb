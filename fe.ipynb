{
 "cells": [
  {
   "cell_type": "code",
   "id": "initial_id",
   "metadata": {
    "collapsed": true,
    "ExecuteTime": {
     "end_time": "2024-08-27T07:01:02.599263Z",
     "start_time": "2024-08-27T07:00:20.188152Z"
    }
   },
   "source": [
    "import os\n",
    "import pandas as pd\n",
    "import numpy as np\n",
    "from scipy.stats import kurtosis, skew\n",
    "\n",
    "# Define the path to the folder\n",
    "folder_path = 'segmented_data'\n",
    "\n",
    "# Create a list to hold the results\n",
    "results = []\n",
    "\n",
    "# Loop through each file in the folder\n",
    "for filename in os.listdir(folder_path):\n",
    "    if filename.endswith('.csv'):\n",
    "        # Read the data from the file\n",
    "        file_path = os.path.join(folder_path, filename)\n",
    "        data = pd.read_csv(file_path, header=None).squeeze()\n",
    "        \n",
    "        # Calculate statistics\n",
    "        mean_val = data.mean()\n",
    "        std_dev = data.std()\n",
    "        median_val = data.median()\n",
    "        max_val = data.max()\n",
    "        min_val = data.min()\n",
    "        range_val = max_val - min_val\n",
    "        iqr = data.quantile(0.75) - data.quantile(0.25)\n",
    "        q1 = data.quantile(0.25)\n",
    "        q3 = data.quantile(0.75)\n",
    "        kurtosis_val = kurtosis(data)\n",
    "        skewness_val = skew(data)\n",
    "        \n",
    "        # Store the results\n",
    "        results.append({\n",
    "            'Filename': filename,\n",
    "            'Mean': mean_val,\n",
    "            'Standard Deviation': std_dev,\n",
    "            'Median': median_val,\n",
    "            'Maximum Value': max_val,\n",
    "            'Minimum Value': min_val,\n",
    "            'Range': range_val,\n",
    "            'Interquartile Range': iqr,\n",
    "            'Q1': q1,\n",
    "            'Q3': q3,\n",
    "            'Kurtosis': kurtosis_val,\n",
    "            'Skewness': skewness_val\n",
    "        })\n",
    "\n",
    "# Convert the results to a DataFrame for easy viewing\n",
    "results_df = pd.DataFrame(results)\n",
    "\n",
    "# Save the results to a CSV file\n",
    "results_df.to_csv('segmented_data_statistics.csv', index=False)\n",
    "\n",
    "print(\"Statistics calculation complete. Results saved to 'segmented_data_statistics.csv'.\")\n"
   ],
   "outputs": [
    {
     "name": "stdout",
     "output_type": "stream",
     "text": [
      "Statistics calculation complete. Results saved to 'segmented_data_statistics.csv'.\n"
     ]
    }
   ],
   "execution_count": 1
  }
 ],
 "metadata": {
  "kernelspec": {
   "display_name": "Python 3",
   "language": "python",
   "name": "python3"
  },
  "language_info": {
   "codemirror_mode": {
    "name": "ipython",
    "version": 2
   },
   "file_extension": ".py",
   "mimetype": "text/x-python",
   "name": "python",
   "nbconvert_exporter": "python",
   "pygments_lexer": "ipython2",
   "version": "2.7.6"
  }
 },
 "nbformat": 4,
 "nbformat_minor": 5
}
