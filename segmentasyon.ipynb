{
 "cells": [
  {
   "metadata": {
    "ExecuteTime": {
     "end_time": "2024-08-26T17:20:08.665460Z",
     "start_time": "2024-08-26T17:19:17.402095Z"
    }
   },
   "cell_type": "code",
   "source": [
    "import os\n",
    "import pandas as pd\n",
    "import numpy as np\n",
    "\n",
    "# Set the path to your dataset folder and the output folder\n",
    "data_folder = 'dataset_final2'\n",
    "output_folder = 'segmented_data'\n",
    "\n",
    "# Create the output folder if it doesn't exist\n",
    "os.makedirs(output_folder, exist_ok=True)\n",
    "\n",
    "# Parameters\n",
    "sample_rate = 100  # 100Hz\n",
    "segment_duration = 30  # seconds\n",
    "segment_length = sample_rate * segment_duration  # samples per segment\n",
    "\n",
    "# Process each file in the dataset_final2 folder\n",
    "for file_name in os.listdir(data_folder):\n",
    "    file_path = os.path.join(data_folder, file_name)\n",
    "    \n",
    "    # Read the CSV file\n",
    "    data = pd.read_csv(file_path)\n",
    "    \n",
    "    # Split the data into 30-second segments\n",
    "    for i, start in enumerate(range(0, len(data), segment_length)):\n",
    "        end = start + segment_length\n",
    "        if end > len(data):\n",
    "            break\n",
    "        \n",
    "        segment = data.iloc[start:end]\n",
    "        \n",
    "        # Determine the label from the filename\n",
    "        label = 'H' if 'H' in file_name else 'N'\n",
    "        \n",
    "        # Create a new filename for the segmented data\n",
    "        segment_file_name = f\"{os.path.splitext(file_name)[0]}_{label}_segment_{i + 1}.csv\"\n",
    "        segment_file_path = os.path.join(output_folder, segment_file_name)\n",
    "        \n",
    "        # Save the segment as a CSV file\n",
    "        segment.to_csv(segment_file_path, index=False)\n",
    "\n",
    "print(\"Data has been segmented and saved as CSV files.\")\n",
    "#12928 veri\n"
   ],
   "id": "f2921e6ef843237e",
   "outputs": [
    {
     "name": "stdout",
     "output_type": "stream",
     "text": [
      "Data has been segmented and saved as CSV files.\n"
     ]
    }
   ],
   "execution_count": 1
  }
 ],
 "metadata": {
  "kernelspec": {
   "display_name": "Python 3",
   "language": "python",
   "name": "python3"
  },
  "language_info": {
   "codemirror_mode": {
    "name": "ipython",
    "version": 2
   },
   "file_extension": ".py",
   "mimetype": "text/x-python",
   "name": "python",
   "nbconvert_exporter": "python",
   "pygments_lexer": "ipython2",
   "version": "2.7.6"
  }
 },
 "nbformat": 4,
 "nbformat_minor": 5
}
