{
 "cells": [
  {
   "metadata": {
    "ExecuteTime": {
     "end_time": "2024-08-26T17:30:08.788253Z",
     "start_time": "2024-08-26T17:29:43.365638Z"
    }
   },
   "cell_type": "code",
   "source": [
    "import os\n",
    "import pandas as pd\n",
    "import numpy as np\n",
    "from sklearn.model_selection import train_test_split\n",
    "from tensorflow.keras.models import Sequential\n",
    "from tensorflow.keras.layers import LSTM, Dense, TimeDistributed, RepeatVector\n",
    "from tensorflow.keras import Input, Model\n",
    "\n",
    "# Set the path to the segmented data folder\n",
    "segmented_data_folder = 'segmented_data'\n",
    "\n",
    "# Initialize lists to hold data and labels\n",
    "data = []\n",
    "labels = []\n",
    "\n",
    "# Load the segmented CSV files\n",
    "for file_name in os.listdir(segmented_data_folder):\n",
    "    file_path = os.path.join(segmented_data_folder, file_name)\n",
    "    \n",
    "    # Read the CSV file\n",
    "    segment = pd.read_csv(file_path)\n",
    "    \n",
    "    # Append the segment data\n",
    "    data.append(segment.values)\n",
    "    \n",
    "    # Determine the label from the filename ('H' for hypertensive, 'N' for normal)\n",
    "    label = 1 if 'H' in file_name else 0\n",
    "    labels.append(label)\n",
    "\n",
    "# Convert lists to numpy arrays\n",
    "data = np.array(data)\n",
    "labels = np.array(labels)\n",
    "\n",
    "# Split into training and test sets\n",
    "X_train, X_test, y_train, y_test = train_test_split(data, labels, test_size=0.2, random_state=42)\n"
   ],
   "id": "7adc4b7e2a8a28b2",
   "outputs": [],
   "execution_count": 1
  },
  {
   "metadata": {
    "ExecuteTime": {
     "end_time": "2024-08-26T17:30:08.970888Z",
     "start_time": "2024-08-26T17:30:08.808066Z"
    }
   },
   "cell_type": "code",
   "source": [
    "# Build an autoencoder model\n",
    "def build_autoencoder(input_shape):\n",
    "    model = Sequential()\n",
    "    model.add(Input(shape=input_shape))\n",
    "    #model.add(LSTM(128, activation='relu', return_sequences=True))\n",
    "    model.add(LSTM(64, activation='relu', return_sequences=False))\n",
    "    model.add(RepeatVector(input_shape[0]))\n",
    "    model.add(LSTM(64, activation='relu', return_sequences=True))\n",
    "    #model.add(LSTM(128, activation='relu', return_sequences=True))\n",
    "    model.add(TimeDistributed(Dense(input_shape[1])))\n",
    "    model.compile(optimizer='adam', loss='mse')\n",
    "    return model\n",
    "\n",
    "# Train the autoencoder\n",
    "input_shape = (X_train.shape[1], X_train.shape[2])  # Segment length and number of features\n",
    "autoencoder = build_autoencoder(input_shape)\n",
    "\n"
   ],
   "id": "8280c52dc9120540",
   "outputs": [],
   "execution_count": 2
  },
  {
   "metadata": {
    "jupyter": {
     "is_executing": true
    },
    "ExecuteTime": {
     "start_time": "2024-08-26T17:30:08.983076Z"
    }
   },
   "cell_type": "code",
   "source": [
    "autoencoder.fit(X_train, X_train, epochs=10, batch_size=64, validation_data=(X_test, X_test))\n",
    "\n",
    "# Extract features using the encoder part of the autoencoder\n",
    "encoder = Model(inputs=autoencoder.input, outputs=autoencoder.layers[2].output)\n",
    "encoded_X_train = encoder.predict(X_train)\n",
    "encoded_X_test = encoder.predict(X_test)"
   ],
   "id": "d3a30a7daa505a02",
   "outputs": [
    {
     "name": "stdout",
     "output_type": "stream",
     "text": [
      "Epoch 1/10\n"
     ]
    }
   ],
   "execution_count": null
  },
  {
   "metadata": {},
   "cell_type": "code",
   "outputs": [],
   "execution_count": null,
   "source": [
    "# Build an LSTM model for classification\n",
    "lstm_model = Sequential()\n",
    "lstm_model.add(LSTM(64, input_shape=(encoded_X_train.shape[1], encoded_X_train.shape[2])))\n",
    "lstm_model.add(Dense(1, activation='sigmoid'))\n",
    "lstm_model.compile(optimizer='adam', loss='binary_crossentropy', metrics=['accuracy'])\n",
    "\n",
    "# Train the LSTM model\n",
    "lstm_model.fit(encoded_X_train, y_train, epochs=50, batch_size=32, validation_data=(encoded_X_test, y_test))\n",
    "\n",
    "# Evaluate the model\n",
    "loss, accuracy = lstm_model.evaluate(encoded_X_test, y_test)\n",
    "print(f\"Test Accuracy: {accuracy * 100:.2f}%\")\n"
   ],
   "id": "4659d4b70d8d57ee"
  }
 ],
 "metadata": {
  "kernelspec": {
   "display_name": "Python 3",
   "language": "python",
   "name": "python3"
  },
  "language_info": {
   "codemirror_mode": {
    "name": "ipython",
    "version": 2
   },
   "file_extension": ".py",
   "mimetype": "text/x-python",
   "name": "python",
   "nbconvert_exporter": "python",
   "pygments_lexer": "ipython2",
   "version": "2.7.6"
  }
 },
 "nbformat": 4,
 "nbformat_minor": 5
}
